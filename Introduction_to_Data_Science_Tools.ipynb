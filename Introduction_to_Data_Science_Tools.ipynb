{
 "cells": [
  {
   "cell_type": "markdown",
   "id": "c2aa65e2-fcee-405c-9c84-58690dbc46df",
   "metadata": {},
   "source": [
    "# Introduction to Data Science Tools\n",
    "### Final Project – Jupyter Notebook"
   ]
  },
  {
   "cell_type": "markdown",
   "id": "72f72b01-ff4b-4015-8831-fe9d18bddc6f",
   "metadata": {},
   "source": [
    "## Introduction\n",
    "This notebook demonstrates basic concepts learned in the Data Science Tools course.  \n",
    "It includes markdown formatting, examples of popular Data Science languages and libraries, and simple Python arithmetic examples."
   ]
  },
  {
   "cell_type": "markdown",
   "id": "1c400c9c-bc75-4da9-9cd8-030c49a9f772",
   "metadata": {},
   "source": [
    "## Data Science Languages\n",
    "The most commonly used languages for Data Science include:\n",
    "1. Python  \n",
    "2. R  \n",
    "3. SQL  \n",
    "4. Julia  \n",
    "5. Scala"
   ]
  },
  {
   "cell_type": "markdown",
   "id": "0efdc0e3-eba8-4384-8ca3-dbbbf7869ef0",
   "metadata": {},
   "source": [
    "## Data Science Libraries\n",
    "Some of the popular Data Science libraries are:\n",
    "- **NumPy** – for numerical computations  \n",
    "- **Pandas** – for data manipulation and analysis  \n",
    "- **Matplotlib** – for data visualization  \n",
    "- **Scikit-learn** – for machine learning  \n",
    "- **TensorFlow** – for deep learning"
   ]
  },
  {
   "cell_type": "markdown",
   "id": "cbc359ab-a5ef-4aaa-9671-eca0d24cf8d1",
   "metadata": {},
   "source": [
    "## Data Science Tools\n",
    "Commonly used tools include:\n",
    "| Data Science Tool | Description |\n",
    "|--------------------|-------------|\n",
    "| Jupyter Notebook | Interactive coding and documentation |\n",
    "| RStudio | IDE for R programming |\n",
    "| GitHub | Version control and collaboration |\n",
    "| Apache Spark | Big data processing framework |\n",
    "| TensorFlow | Machine learning platform |"
   ]
  },
  {
   "cell_type": "markdown",
   "id": "8d33e14d-a3e5-455c-a7c2-b3547f51d869",
   "metadata": {},
   "source": [
    "## Arithmetic Expression Examples\n",
    "Below are some examples of basic arithmetic expressions using Python."
   ]
  },
  {
   "cell_type": "code",
   "execution_count": 3,
   "id": "aa4444e4-9a11-417c-b5fe-f73422287d52",
   "metadata": {},
   "outputs": [
    {
     "data": {
      "text/plain": [
       "17"
      ]
     },
     "execution_count": 3,
     "metadata": {},
     "output_type": "execute_result"
    }
   ],
   "source": [
    "# Multiply and add numbers\n",
    "(3 * 4) + 5"
   ]
  },
  {
   "cell_type": "code",
   "execution_count": 4,
   "id": "7e495805-5988-431c-bdaf-a2741ccec737",
   "metadata": {},
   "outputs": [
    {
     "data": {
      "text/plain": [
       "3.3333333333333335"
      ]
     },
     "execution_count": 4,
     "metadata": {},
     "output_type": "execute_result"
    }
   ],
   "source": [
    "# Convert minutes to hours\n",
    "minutes = 200\n",
    "hours = minutes / 60\n",
    "hours"
   ]
  },
  {
   "cell_type": "markdown",
   "id": "1c80ba8c-0f52-45d8-8072-6f4b786aefdf",
   "metadata": {},
   "source": [
    "## Objectives\n",
    "In this notebook, we will:\n",
    "- List popular languages used in Data Science  \n",
    "- Identify commonly used libraries and tools  \n",
    "- Perform basic arithmetic expressions in Python  \n",
    "- Convert minutes to hours using a Python formula"
   ]
  },
  {
   "cell_type": "markdown",
   "id": "3c4d431a-d519-4f21-8489-451106d542d9",
   "metadata": {},
   "source": [
    "## Author\n",
    "**Name:** Harshada Nischal Bhayekar"
   ]
  }
 ],
 "metadata": {
  "kernelspec": {
   "display_name": "Python [conda env:base] *",
   "language": "python",
   "name": "conda-base-py"
  },
  "language_info": {
   "codemirror_mode": {
    "name": "ipython",
    "version": 3
   },
   "file_extension": ".py",
   "mimetype": "text/x-python",
   "name": "python",
   "nbconvert_exporter": "python",
   "pygments_lexer": "ipython3",
   "version": "3.13.5"
  }
 },
 "nbformat": 4,
 "nbformat_minor": 5
}
